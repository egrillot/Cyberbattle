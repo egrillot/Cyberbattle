{
 "cells": [
  {
   "cell_type": "markdown",
   "metadata": {},
   "source": [
    "# Benchmark GNN learner\n",
    "High training of the GRU GNN learner."
   ]
  },
  {
   "cell_type": "code",
   "execution_count": 1,
   "metadata": {},
   "outputs": [
    {
     "ename": "ModuleNotFoundError",
     "evalue": "No module named 'cyberbattle.scripts'",
     "output_type": "error",
     "traceback": [
      "\u001b[1;31m---------------------------------------------------------------------------\u001b[0m",
      "\u001b[1;31mModuleNotFoundError\u001b[0m                       Traceback (most recent call last)",
      "\u001b[1;32m<ipython-input-1-17a16c7ab573>\u001b[0m in \u001b[0;36m<module>\u001b[1;34m\u001b[0m\n\u001b[0;32m      4\u001b[0m \u001b[1;32mimport\u001b[0m \u001b[0mgym\u001b[0m\u001b[1;33m\u001b[0m\u001b[1;33m\u001b[0m\u001b[0m\n\u001b[0;32m      5\u001b[0m \u001b[1;33m\u001b[0m\u001b[0m\n\u001b[1;32m----> 6\u001b[1;33m \u001b[1;32mfrom\u001b[0m \u001b[0mcyberbattle\u001b[0m\u001b[1;33m.\u001b[0m\u001b[0mscripts\u001b[0m\u001b[1;33m.\u001b[0m\u001b[0mobjects_and_global_functions\u001b[0m \u001b[1;32mimport\u001b[0m \u001b[0mAttacker\u001b[0m\u001b[1;33m,\u001b[0m \u001b[0mDefender\u001b[0m\u001b[1;33m\u001b[0m\u001b[1;33m\u001b[0m\u001b[0m\n\u001b[0m\u001b[0;32m      7\u001b[0m \u001b[1;32mfrom\u001b[0m \u001b[0mcyberbattle\u001b[0m\u001b[1;33m.\u001b[0m\u001b[0mCyberBattleToyctf\u001b[0m \u001b[1;32mimport\u001b[0m \u001b[0mToyctf_env\u001b[0m\u001b[1;33m,\u001b[0m \u001b[0mToyctf_IDENTIFIERS\u001b[0m\u001b[1;33m\u001b[0m\u001b[1;33m\u001b[0m\u001b[0m\n\u001b[0;32m      8\u001b[0m \u001b[1;32mfrom\u001b[0m \u001b[0mcyberbattle\u001b[0m\u001b[1;33m.\u001b[0m\u001b[0menv_processing\u001b[0m \u001b[1;32mimport\u001b[0m \u001b[0mregister\u001b[0m\u001b[1;33m\u001b[0m\u001b[1;33m\u001b[0m\u001b[0m\n",
      "\u001b[1;31mModuleNotFoundError\u001b[0m: No module named 'cyberbattle.scripts'"
     ]
    }
   ],
   "source": [
    "# Environment\n",
    "\n",
    "import cyberbattle\n",
    "import gym\n",
    "\n",
    "from cyberbattle.scripts.objects_and_global_functions import Attacker, Defender\n",
    "from cyberbattle.CyberBattleToyctf import Toyctf_env, Toyctf_IDENTIFIERS\n",
    "from cyberbattle.env_processing import register\n",
    "\n",
    "from gym.envs.registration import registry\n",
    "\n",
    "# Register environment in the gym API\n",
    "if 'Toyctf_env-v0' in registry.env_specs:\n",
    "    del registry.env_specs['Toyctf_env-v0']\n",
    "\n",
    "register('Toyctf_env-v0',\n",
    "            identifiers=Toyctf_IDENTIFIERS,\n",
    "            entry_point=Toyctf_env,\n",
    "            kwargs={'defender_agent': None,\n",
    "                    'attacker': Attacker(capture_flag=4),\n",
    "                    'defender': Defender(),\n",
    "                    'winning_reward': 5000.0,\n",
    "                    'losing_reward': 0.0,\n",
    "                    'positive_rewards': False}\n",
    "            )\n",
    "\n",
    "Toyctf_environment = gym.make('Toyctf_env-v0')"
   ]
  }
 ],
 "metadata": {
  "interpreter": {
   "hash": "cdfe7fd1aeb3226d5008756b11d578cc7446dd717d4b9a3f4972711f190e7ab6"
  },
  "kernelspec": {
   "display_name": "Python 3.8.8 ('base')",
   "language": "python",
   "name": "python3"
  },
  "language_info": {
   "codemirror_mode": {
    "name": "ipython",
    "version": 3
   },
   "file_extension": ".py",
   "mimetype": "text/x-python",
   "name": "python",
   "nbconvert_exporter": "python",
   "pygments_lexer": "ipython3",
   "version": "3.8.8"
  },
  "orig_nbformat": 4
 },
 "nbformat": 4,
 "nbformat_minor": 2
}
