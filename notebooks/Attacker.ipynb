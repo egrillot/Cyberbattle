{
 "cells": [
  {
   "cell_type": "code",
   "execution_count": 1,
   "metadata": {},
   "outputs": [],
   "source": [
    "from cyberbattle.agents.attacker.attacker_interface import Attacker, AttackerGoal\n",
    "\n",
    "from cyberbattle.agents.battle_environment import CyberBattleEnv\n",
    "from cyberbattle.env.samples.little_network import get_little_environment_network, Dev, DSI\n",
    "\n",
    "num_client = 5\n",
    "net = get_little_environment_network(num_client)\n",
    "profiles = {\n",
    "    DSI(num_client): 1,\n",
    "    Dev(num_client): num_client - 1\n",
    "}\n",
    "env = CyberBattleEnv(net, profiles)"
   ]
  },
  {
   "cell_type": "code",
   "execution_count": 2,
   "metadata": {},
   "outputs": [
    {
     "data": {
      "text/plain": [
       "{'PC_1': {},\n",
       " 'PC_2': {},\n",
       " 'PC_3': {'System Owner/User Discovery': {'data sources triggered': 'Process',\n",
       "   'phase name': 'discovery',\n",
       "   'Type': 'Local'}},\n",
       " 'PC_4': {},\n",
       " 'PC_5': {'Password Cracking': {'data sources triggered': 'User Account',\n",
       "   'phase name': 'credential-access',\n",
       "   'Type': 'Remote'}},\n",
       " 'Switch_1': {},\n",
       " 'Switch_2': {},\n",
       " 'Router': {},\n",
       " 'DatabaseServer': {'Browser Session Hijacking': {'data sources triggered': 'Logon Session',\n",
       "   'phase name': 'collection',\n",
       "   'Type': 'Local'}},\n",
       " 'MailServer': {'Network Service Scanning': {'data sources triggered': 'Cloud Service',\n",
       "   'phase name': 'discovery',\n",
       "   'Type': 'Local'}},\n",
       " 'CommunicationServer': {},\n",
       " 'GoogleDrive': {'Password Guessing': {'data sources triggered': 'User Account',\n",
       "   'phase name': 'credential-access',\n",
       "   'Type': 'Remote'}},\n",
       " 'Firewall_1': {},\n",
       " 'Firewall_2': {}}"
      ]
     },
     "execution_count": 2,
     "metadata": {},
     "output_type": "execute_result"
    }
   ],
   "source": [
    "env.attacks.get_attacks_by_machines_string()"
   ]
  },
  {
   "cell_type": "code",
   "execution_count": 3,
   "metadata": {},
   "outputs": [
    {
     "name": "stdout",
     "output_type": "stream",
     "text": [
      "['PC_3']\n"
     ]
    },
    {
     "data": {
      "text/plain": [
       "{0: 'System Owner/User Discovery',\n",
       " 1: 'Password Cracking',\n",
       " 2: 'Browser Session Hijacking',\n",
       " 3: 'Network Service Scanning',\n",
       " 4: 'Password Guessing'}"
      ]
     },
     "execution_count": 3,
     "metadata": {},
     "output_type": "execute_result"
    }
   ],
   "source": [
    "attacker = Attacker(\n",
    "    goals=AttackerGoal(\n",
    "        reward=0,\n",
    "        nb_flag=1\n",
    "    ),\n",
    "    attacks=env.id_to_attack,\n",
    "    network=net,\n",
    "    attacks_by_machine=env.attacks_by_machine,\n",
    "    start_time=env.get_start_time()\n",
    ")\n",
    "\n",
    "print(attacker.get_discovered_machines())\n",
    "attacker.attack_as_string()"
   ]
  },
  {
   "cell_type": "code",
   "execution_count": 4,
   "metadata": {},
   "outputs": [
    {
     "name": "stdout",
     "output_type": "stream",
     "text": [
      "20 Is activity : True, source : PC_3, target : PC_3, port : sudo, data source triggered : Process, is error : 0\n"
     ]
    }
   ],
   "source": [
    "import numpy as np \n",
    "\n",
    "attack = {'local': np.array([0, 0])}\n",
    "reward, activity = attacker.on_step(attack)\n",
    "\n",
    "print(reward, activity.get_description())"
   ]
  },
  {
   "cell_type": "code",
   "execution_count": 5,
   "metadata": {},
   "outputs": [
    {
     "data": {
      "text/plain": [
       "['PC_3', 'PC_1', 'PC_2', 'PC_4', 'PC_5']"
      ]
     },
     "execution_count": 5,
     "metadata": {},
     "output_type": "execute_result"
    }
   ],
   "source": [
    "attacker.get_discovered_machines()"
   ]
  },
  {
   "cell_type": "code",
   "execution_count": 6,
   "metadata": {},
   "outputs": [
    {
     "name": "stdout",
     "output_type": "stream",
     "text": [
      "25 Is activity : True, source : PC_3, target : PC_5, port : sudo, data source triggered : User Account, is error : 0\n"
     ]
    }
   ],
   "source": [
    "attack = {'remote': np.array([0, 4, 1])}\n",
    "reward, activity = attacker.on_step(attack)\n",
    "\n",
    "print(reward, activity.get_description())"
   ]
  },
  {
   "cell_type": "code",
   "execution_count": 7,
   "metadata": {},
   "outputs": [
    {
     "data": {
      "text/plain": [
       "(['PC_3', 'PC_1', 'PC_2', 'PC_4', 'PC_5', 'MailServer'],\n",
       " [('HTTPS', 'MailServer', 'DSI')])"
      ]
     },
     "execution_count": 7,
     "metadata": {},
     "output_type": "execute_result"
    }
   ],
   "source": [
    "attacker.get_discovered_machines(), attacker.get_discovered_credentials()"
   ]
  },
  {
   "cell_type": "code",
   "execution_count": 8,
   "metadata": {},
   "outputs": [
    {
     "name": "stdout",
     "output_type": "stream",
     "text": [
      "50 Is activity : True, source : PC_3, target : MailServer, port : HTTPS, data source triggered : User Account: User Account Authentification, is error : 0\n"
     ]
    }
   ],
   "source": [
    "attack = {'connect': np.array([0, 0])}\n",
    "reward, activity = attacker.on_step(attack)\n",
    "\n",
    "print(reward, activity.get_description())"
   ]
  },
  {
   "cell_type": "code",
   "execution_count": 9,
   "metadata": {},
   "outputs": [
    {
     "data": {
      "text/plain": [
       "['PC_3', 'MailServer']"
      ]
     },
     "execution_count": 9,
     "metadata": {},
     "output_type": "execute_result"
    }
   ],
   "source": [
    "attacker.get_infected_machines()"
   ]
  },
  {
   "cell_type": "code",
   "execution_count": 10,
   "metadata": {},
   "outputs": [
    {
     "name": "stdout",
     "output_type": "stream",
     "text": [
      "15 Is activity : True, source : MailServer, target : MailServer, port : HTTPS, data source triggered : Cloud Service, is error : 0\n"
     ]
    }
   ],
   "source": [
    "attack = {'local': np.array([5, 3])}\n",
    "reward, activity = attacker.on_step(attack)\n",
    "\n",
    "print(reward, activity.get_description())"
   ]
  },
  {
   "cell_type": "code",
   "execution_count": 12,
   "metadata": {},
   "outputs": [
    {
     "data": {
      "text/plain": [
       "['PC_3',\n",
       " 'PC_1',\n",
       " 'PC_2',\n",
       " 'PC_4',\n",
       " 'PC_5',\n",
       " 'MailServer',\n",
       " 'DatabaseServer',\n",
       " 'CommunicationServer',\n",
       " 'GoogleDrive']"
      ]
     },
     "execution_count": 12,
     "metadata": {},
     "output_type": "execute_result"
    }
   ],
   "source": [
    "attacker.get_discovered_machines()"
   ]
  },
  {
   "cell_type": "code",
   "execution_count": 13,
   "metadata": {},
   "outputs": [
    {
     "name": "stdout",
     "output_type": "stream",
     "text": [
      "20 Is activity : True, source : PC_3, target : GoogleDrive, port : HTTPS, data source triggered : User Account, is error : 0\n"
     ]
    }
   ],
   "source": [
    "attack = {'remote': np.array([0, 8, 4])}\n",
    "reward, activity = attacker.on_step(attack)\n",
    "\n",
    "print(reward, activity.get_description())"
   ]
  },
  {
   "cell_type": "code",
   "execution_count": 15,
   "metadata": {},
   "outputs": [
    {
     "data": {
      "text/plain": [
       "(['PC_3',\n",
       "  'PC_1',\n",
       "  'PC_2',\n",
       "  'PC_4',\n",
       "  'PC_5',\n",
       "  'MailServer',\n",
       "  'DatabaseServer',\n",
       "  'CommunicationServer',\n",
       "  'GoogleDrive'],\n",
       " [('HTTPS', 'MailServer', 'DSI'), ('HTTPS', 'DatabaseServer', 'DSI')])"
      ]
     },
     "execution_count": 15,
     "metadata": {},
     "output_type": "execute_result"
    }
   ],
   "source": [
    "attacker.get_discovered_machines(), attacker.get_discovered_credentials()"
   ]
  },
  {
   "cell_type": "code",
   "execution_count": 16,
   "metadata": {},
   "outputs": [
    {
     "name": "stdout",
     "output_type": "stream",
     "text": [
      "50 Is activity : True, source : PC_3, target : DatabaseServer, port : HTTPS, data source triggered : User Account: User Account Authentification, is error : 0\n"
     ]
    }
   ],
   "source": [
    "attack = {'connect': np.array([0, 1])}\n",
    "reward, activity = attacker.on_step(attack)\n",
    "\n",
    "print(reward, activity.get_description())"
   ]
  },
  {
   "cell_type": "code",
   "execution_count": 23,
   "metadata": {},
   "outputs": [
    {
     "name": "stdout",
     "output_type": "stream",
     "text": [
      "0 Is activity : False, source : None, target : None, port : None, data source triggered : None, is error : None\n"
     ]
    }
   ],
   "source": [
    "attack = {'submarine'}\n",
    "reward, activity = attacker.on_step(attack)\n",
    "\n",
    "print(reward, activity.get_description())"
   ]
  },
  {
   "cell_type": "code",
   "execution_count": 18,
   "metadata": {},
   "outputs": [
    {
     "data": {
      "text/plain": [
       "['PC_3', 'MailServer', 'DatabaseServer']"
      ]
     },
     "execution_count": 18,
     "metadata": {},
     "output_type": "execute_result"
    }
   ],
   "source": [
    "attacker.get_infected_machines()"
   ]
  },
  {
   "cell_type": "code",
   "execution_count": 19,
   "metadata": {},
   "outputs": [
    {
     "name": "stdout",
     "output_type": "stream",
     "text": [
      "1000 Is activity : True, source : DatabaseServer, target : DatabaseServer, port : HTTPS, data source triggered : Logon Session, is error : 0\n"
     ]
    }
   ],
   "source": [
    "attack = {'local': np.array([6, 2])}\n",
    "reward, activity = attacker.on_step(attack)\n",
    "\n",
    "print(reward, activity.get_description())"
   ]
  },
  {
   "cell_type": "code",
   "execution_count": 20,
   "metadata": {},
   "outputs": [
    {
     "data": {
      "text/plain": [
       "1"
      ]
     },
     "execution_count": 20,
     "metadata": {},
     "output_type": "execute_result"
    }
   ],
   "source": [
    "attacker.get_captured_flag()"
   ]
  },
  {
   "cell_type": "code",
   "execution_count": 22,
   "metadata": {},
   "outputs": [
    {
     "data": {
      "text/plain": [
       "True"
      ]
     },
     "execution_count": 22,
     "metadata": {},
     "output_type": "execute_result"
    }
   ],
   "source": [
    "attacker.reached_goals()"
   ]
  }
 ],
 "metadata": {
  "interpreter": {
   "hash": "cdfe7fd1aeb3226d5008756b11d578cc7446dd717d4b9a3f4972711f190e7ab6"
  },
  "kernelspec": {
   "display_name": "Python 3.8.8 ('base')",
   "language": "python",
   "name": "python3"
  },
  "language_info": {
   "codemirror_mode": {
    "name": "ipython",
    "version": 3
   },
   "file_extension": ".py",
   "mimetype": "text/x-python",
   "name": "python",
   "nbconvert_exporter": "python",
   "pygments_lexer": "ipython3",
   "version": "3.8.8"
  },
  "orig_nbformat": 4
 },
 "nbformat": 4,
 "nbformat_minor": 2
}
