{
 "cells": [
  {
   "cell_type": "markdown",
   "metadata": {},
   "source": [
    "# Test the attacker interface in a Cyberbattle environment\n",
    "\n",
    "-   initialisation of the litlle environment\n",
    "-   initialisation of profiles\n",
    "-   initialisation of the attack wallet the attacker will be able to use\n",
    "-   perform actions to discover the flag"
   ]
  },
  {
   "cell_type": "code",
   "execution_count": 1,
   "metadata": {},
   "outputs": [],
   "source": [
    "from cyberbattle.agents.attacker.attacker_interface import Attacker, AttackerGoal\n",
    "\n",
    "from cyberbattle.agents.battle_environment import CyberBattleEnv\n",
    "from cyberbattle.env.samples.little_network import get_little_environment_network, Dev, DSI\n",
    "\n",
    "num_client = 5\n",
    "net = get_little_environment_network(num_client)\n",
    "profiles = {\n",
    "    DSI(num_client): 1,\n",
    "    Dev(num_client): num_client - 1\n",
    "}\n",
    "env = CyberBattleEnv(net, profiles)"
   ]
  },
  {
   "cell_type": "code",
   "execution_count": 2,
   "metadata": {},
   "outputs": [
    {
     "data": {
      "text/plain": [
       "{'PC_1': {'Query Registry': {'data sources triggered': 'Process',\n",
       "   'phase name': 'discovery',\n",
       "   'Type': 'Local'}},\n",
       " 'PC_2': {},\n",
       " 'PC_3': {},\n",
       " 'PC_4': {},\n",
       " 'PC_5': {'Password Managers': {'data sources triggered': 'Process',\n",
       "   'phase name': 'credential-access',\n",
       "   'Type': 'Remote'}},\n",
       " 'Switch_1': {},\n",
       " 'Switch_2': {},\n",
       " 'Router': {},\n",
       " 'DatabaseServer': {'Browser Session Hijacking': {'data sources triggered': 'Process',\n",
       "   'phase name': 'collection',\n",
       "   'Type': 'Local'}},\n",
       " 'MailServer': {'Network Service Scanning': {'data sources triggered': 'Cloud Service',\n",
       "   'phase name': 'discovery',\n",
       "   'Type': 'Local'}},\n",
       " 'CommunicationServer': {},\n",
       " 'GoogleDrive': {'Steal Application Access Token': {'data sources triggered': 'User Account',\n",
       "   'phase name': 'credential-access',\n",
       "   'Type': 'Remote'}},\n",
       " 'Firewall_1': {},\n",
       " 'Firewall_2': {}}"
      ]
     },
     "execution_count": 2,
     "metadata": {},
     "output_type": "execute_result"
    }
   ],
   "source": [
    "env.attacks.get_attacks_by_machines_string()"
   ]
  },
  {
   "cell_type": "code",
   "execution_count": 3,
   "metadata": {},
   "outputs": [
    {
     "name": "stdout",
     "output_type": "stream",
     "text": [
      "['PC_1']\n"
     ]
    },
    {
     "data": {
      "text/plain": [
       "{0: 'Query Registry',\n",
       " 1: 'Password Managers',\n",
       " 2: 'Browser Session Hijacking',\n",
       " 3: 'Network Service Scanning',\n",
       " 4: 'Steal Application Access Token'}"
      ]
     },
     "execution_count": 3,
     "metadata": {},
     "output_type": "execute_result"
    }
   ],
   "source": [
    "attacker = Attacker(\n",
    "    goals=AttackerGoal(\n",
    "        reward=0,\n",
    "        nb_flag=1\n",
    "    ),\n",
    "    attacks=env.id_to_attack,\n",
    "    network=net,\n",
    "    attacks_by_machine=env.attacks_by_machine,\n",
    "    start_time=env.get_start_time()\n",
    ")\n",
    "\n",
    "print(attacker.get_discovered_machines())\n",
    "attacker.attack_as_string()"
   ]
  },
  {
   "cell_type": "code",
   "execution_count": 4,
   "metadata": {},
   "outputs": [
    {
     "name": "stdout",
     "output_type": "stream",
     "text": [
      "20 Is activity : True, source : PC_1, target : PC_1, port : sudo, data source triggered : Process, is error : 0\n"
     ]
    }
   ],
   "source": [
    "import numpy as np \n",
    "\n",
    "attack = {'local': np.array([0, 0])}\n",
    "reward, activity = attacker.on_step(attack)\n",
    "\n",
    "print(reward, activity.get_description())"
   ]
  },
  {
   "cell_type": "code",
   "execution_count": 5,
   "metadata": {},
   "outputs": [
    {
     "data": {
      "text/plain": [
       "['PC_1', 'PC_2', 'PC_3', 'PC_4', 'PC_5']"
      ]
     },
     "execution_count": 5,
     "metadata": {},
     "output_type": "execute_result"
    }
   ],
   "source": [
    "attacker.get_discovered_machines()"
   ]
  },
  {
   "cell_type": "code",
   "execution_count": 6,
   "metadata": {},
   "outputs": [
    {
     "name": "stdout",
     "output_type": "stream",
     "text": [
      "-10 Is activity : False, source : None, target : None, port : None, data source triggered : None, is error : None\n"
     ]
    }
   ],
   "source": [
    "attack = {'local': np.array([0, 3])}\n",
    "reward, activity = attacker.on_step(attack)\n",
    "\n",
    "print(reward, activity.get_description())"
   ]
  },
  {
   "cell_type": "code",
   "execution_count": 7,
   "metadata": {},
   "outputs": [
    {
     "name": "stdout",
     "output_type": "stream",
     "text": [
      "-12 Is activity : False, source : None, target : None, port : None, data source triggered : None, is error : None\n"
     ]
    }
   ],
   "source": [
    "attack = {'local': np.array([0, 3])}\n",
    "reward, activity = attacker.on_step(attack)\n",
    "\n",
    "print(reward, activity.get_description())"
   ]
  },
  {
   "cell_type": "code",
   "execution_count": 8,
   "metadata": {},
   "outputs": [
    {
     "name": "stdout",
     "output_type": "stream",
     "text": [
      "25 Is activity : True, source : PC_1, target : PC_5, port : sudo, data source triggered : Process, is error : 0\n"
     ]
    }
   ],
   "source": [
    "attack = {'remote': np.array([0, 4, 1])}\n",
    "reward, activity = attacker.on_step(attack)\n",
    "\n",
    "print(reward, activity.get_description())"
   ]
  },
  {
   "cell_type": "code",
   "execution_count": 9,
   "metadata": {},
   "outputs": [
    {
     "data": {
      "text/plain": [
       "(['PC_1', 'PC_2', 'PC_3', 'PC_4', 'PC_5', 'MailServer'],\n",
       " [('HTTPS', 'MailServer', 'DSI')])"
      ]
     },
     "execution_count": 9,
     "metadata": {},
     "output_type": "execute_result"
    }
   ],
   "source": [
    "attacker.get_discovered_machines(), attacker.get_discovered_credentials()"
   ]
  },
  {
   "cell_type": "code",
   "execution_count": 10,
   "metadata": {},
   "outputs": [
    {
     "name": "stdout",
     "output_type": "stream",
     "text": [
      "250 Is activity : True, source : PC_1, target : MailServer, port : HTTPS, data source triggered : User Account: User Account Authentification, is error : 0\n"
     ]
    }
   ],
   "source": [
    "attack = {'connect': np.array([0, 0])}\n",
    "reward, activity = attacker.on_step(attack)\n",
    "\n",
    "print(reward, activity.get_description())"
   ]
  },
  {
   "cell_type": "code",
   "execution_count": 11,
   "metadata": {},
   "outputs": [
    {
     "data": {
      "text/plain": [
       "[('PC_1', 0.0), ('MailServer', 0.7100656032562256)]"
      ]
     },
     "execution_count": 11,
     "metadata": {},
     "output_type": "execute_result"
    }
   ],
   "source": [
    "attacker.get_infected_machines()"
   ]
  },
  {
   "cell_type": "code",
   "execution_count": 12,
   "metadata": {},
   "outputs": [
    {
     "name": "stdout",
     "output_type": "stream",
     "text": [
      "13 Is activity : True, source : MailServer, target : MailServer, port : HTTPS, data source triggered : Cloud Service, is error : 0\n"
     ]
    }
   ],
   "source": [
    "attack = {'local': np.array([5, 3])}\n",
    "reward, activity = attacker.on_step(attack)\n",
    "\n",
    "print(reward, activity.get_description())"
   ]
  },
  {
   "cell_type": "code",
   "execution_count": 13,
   "metadata": {},
   "outputs": [
    {
     "data": {
      "text/plain": [
       "['PC_1',\n",
       " 'PC_2',\n",
       " 'PC_3',\n",
       " 'PC_4',\n",
       " 'PC_5',\n",
       " 'MailServer',\n",
       " 'DatabaseServer',\n",
       " 'CommunicationServer',\n",
       " 'GoogleDrive']"
      ]
     },
     "execution_count": 13,
     "metadata": {},
     "output_type": "execute_result"
    }
   ],
   "source": [
    "attacker.get_discovered_machines()"
   ]
  },
  {
   "cell_type": "code",
   "execution_count": 14,
   "metadata": {},
   "outputs": [
    {
     "name": "stdout",
     "output_type": "stream",
     "text": [
      "-10 Is activity : False, source : None, target : None, port : None, data source triggered : None, is error : None\n"
     ]
    }
   ],
   "source": [
    "attack = {'remote': np.array([0, 5, 4])}\n",
    "reward, activity = attacker.on_step(attack)\n",
    "\n",
    "print(reward, activity.get_description())"
   ]
  },
  {
   "cell_type": "code",
   "execution_count": 15,
   "metadata": {},
   "outputs": [
    {
     "name": "stdout",
     "output_type": "stream",
     "text": [
      "18 Is activity : True, source : PC_1, target : GoogleDrive, port : HTTPS, data source triggered : User Account, is error : 0\n"
     ]
    }
   ],
   "source": [
    "attack = {'remote': np.array([0, 8, 4])}\n",
    "reward, activity = attacker.on_step(attack)\n",
    "\n",
    "print(reward, activity.get_description())"
   ]
  },
  {
   "cell_type": "code",
   "execution_count": 16,
   "metadata": {},
   "outputs": [
    {
     "data": {
      "text/plain": [
       "(['PC_1',\n",
       "  'PC_2',\n",
       "  'PC_3',\n",
       "  'PC_4',\n",
       "  'PC_5',\n",
       "  'MailServer',\n",
       "  'DatabaseServer',\n",
       "  'CommunicationServer',\n",
       "  'GoogleDrive'],\n",
       " [('HTTPS', 'MailServer', 'DSI'), ('HTTPS', 'DatabaseServer', 'DSI')])"
      ]
     },
     "execution_count": 16,
     "metadata": {},
     "output_type": "execute_result"
    }
   ],
   "source": [
    "attacker.get_discovered_machines(), attacker.get_discovered_credentials()"
   ]
  },
  {
   "cell_type": "code",
   "execution_count": 17,
   "metadata": {},
   "outputs": [
    {
     "name": "stdout",
     "output_type": "stream",
     "text": [
      "1050 Is activity : True, source : PC_1, target : DatabaseServer, port : HTTPS, data source triggered : User Account: User Account Authentification, is error : 0\n"
     ]
    }
   ],
   "source": [
    "attack = {'connect': np.array([0, 1])}\n",
    "reward, activity = attacker.on_step(attack)\n",
    "\n",
    "print(reward, activity.get_description())"
   ]
  },
  {
   "cell_type": "code",
   "execution_count": 18,
   "metadata": {},
   "outputs": [
    {
     "data": {
      "text/plain": [
       "[('PC_1', 0.0),\n",
       " ('MailServer', 0.7100656032562256),\n",
       " ('DatabaseServer', 1.2506592273712158)]"
      ]
     },
     "execution_count": 18,
     "metadata": {},
     "output_type": "execute_result"
    }
   ],
   "source": [
    "attacker.get_infected_machines()"
   ]
  },
  {
   "cell_type": "code",
   "execution_count": 19,
   "metadata": {},
   "outputs": [
    {
     "name": "stdout",
     "output_type": "stream",
     "text": [
      "0 Is activity : False, source : None, target : None, port : None, data source triggered : None, is error : None\n"
     ]
    }
   ],
   "source": [
    "attack = {'submarine'}\n",
    "reward, activity = attacker.on_step(attack)\n",
    "\n",
    "print(reward, activity.get_description())"
   ]
  },
  {
   "cell_type": "code",
   "execution_count": 20,
   "metadata": {},
   "outputs": [
    {
     "name": "stdout",
     "output_type": "stream",
     "text": [
      "1000 Is activity : True, source : DatabaseServer, target : DatabaseServer, port : HTTPS, data source triggered : Logon Session, is error : 0\n"
     ]
    }
   ],
   "source": [
    "attack = {'local': np.array([6, 2])}\n",
    "reward, activity = attacker.on_step(attack)\n",
    "\n",
    "print(reward, activity.get_description())"
   ]
  },
  {
   "cell_type": "code",
   "execution_count": 21,
   "metadata": {},
   "outputs": [
    {
     "data": {
      "text/plain": [
       "(1,\n",
       " array([  20,   10,   -2,   23,  273,  286,  276,  294, 1344, 2344],\n",
       "       dtype=int32),\n",
       " 2344)"
      ]
     },
     "execution_count": 21,
     "metadata": {},
     "output_type": "execute_result"
    }
   ],
   "source": [
    "attacker.get_captured_flag(), attacker.get_cumulative_rewards(), attacker.get_total_reward()"
   ]
  },
  {
   "cell_type": "code",
   "execution_count": 22,
   "metadata": {},
   "outputs": [
    {
     "data": {
      "text/plain": [
       "True"
      ]
     },
     "execution_count": 22,
     "metadata": {},
     "output_type": "execute_result"
    }
   ],
   "source": [
    "attacker.reached_goals()"
   ]
  },
  {
   "cell_type": "code",
   "execution_count": 24,
   "metadata": {},
   "outputs": [
    {
     "data": {
      "application/vnd.plotly.v1+json": {
       "config": {
        "plotlyServerURL": "https://plot.ly"
       },
       "data": [
        {
         "customdata": [
          [
           0.1161952018737793,
           20,
           "Query Registry",
           "PC_1",
           "local",
           false
          ],
          [
           0.8692324161529541,
           13,
           "Network Service Scanning",
           "MailServer",
           "local",
           false
          ],
          [
           1.4130878448486328,
           1000,
           "Browser Session Hijacking",
           "DatabaseServer",
           "local",
           true
          ]
         ],
         "hovertemplate": "result=successfull<br>type=%{customdata[4]}<br>iteration=%{x}<br>cumulative reward=%{y}<br>time=%{customdata[0]}<br>reward=%{customdata[1]}<br>attack name=%{customdata[2]}<br>machine instance name=%{customdata[3]}<br>flag=%{customdata[5]}<extra></extra>",
         "legendgroup": "successfull, local",
         "marker": {
          "color": "#636efa",
          "symbol": "circle"
         },
         "mode": "markers",
         "name": "successfull, local",
         "orientation": "v",
         "showlegend": true,
         "type": "scatter",
         "x": [
          1,
          6,
          10
         ],
         "xaxis": "x",
         "y": [
          20,
          286,
          2344
         ],
         "yaxis": "y"
        },
        {
         "customdata": [
          [
           0.49887633323669434,
           25,
           "Password Managers",
           "PC_5",
           "remote",
           false
          ],
          [
           1.1398022174835205,
           18,
           "Steal Application Access Token",
           "GoogleDrive",
           "remote",
           false
          ]
         ],
         "hovertemplate": "result=successfull<br>type=%{customdata[4]}<br>iteration=%{x}<br>cumulative reward=%{y}<br>time=%{customdata[0]}<br>reward=%{customdata[1]}<br>attack name=%{customdata[2]}<br>machine instance name=%{customdata[3]}<br>flag=%{customdata[5]}<extra></extra>",
         "legendgroup": "successfull, remote",
         "marker": {
          "color": "#636efa",
          "symbol": "diamond"
         },
         "mode": "markers",
         "name": "successfull, remote",
         "orientation": "v",
         "showlegend": true,
         "type": "scatter",
         "x": [
          4,
          8
         ],
         "xaxis": "x",
         "y": [
          23,
          294
         ],
         "yaxis": "y"
        },
        {
         "customdata": [
          [
           0.7100656032562256,
           250,
           "User Account Authentification",
           "MailServer",
           "connect",
           false
          ],
          [
           1.2506592273712158,
           1050,
           "User Account Authentification",
           "DatabaseServer",
           "connect",
           false
          ]
         ],
         "hovertemplate": "result=successfull<br>type=%{customdata[4]}<br>iteration=%{x}<br>cumulative reward=%{y}<br>time=%{customdata[0]}<br>reward=%{customdata[1]}<br>attack name=%{customdata[2]}<br>machine instance name=%{customdata[3]}<br>flag=%{customdata[5]}<extra></extra>",
         "legendgroup": "successfull, connect",
         "marker": {
          "color": "#636efa",
          "symbol": "square"
         },
         "mode": "markers",
         "name": "successfull, connect",
         "orientation": "v",
         "showlegend": true,
         "type": "scatter",
         "x": [
          5,
          9
         ],
         "xaxis": "x",
         "y": [
          273,
          1344
         ],
         "yaxis": "y"
        },
        {
         "customdata": [
          [
           0.32294225692749023,
           -10,
           "Network Service Scanning",
           "PC_1",
           "local",
           false
          ],
          [
           0.415158748626709,
           -12,
           "Network Service Scanning",
           "PC_1",
           "local",
           false
          ]
         ],
         "hovertemplate": "result=failed<br>type=%{customdata[4]}<br>iteration=%{x}<br>cumulative reward=%{y}<br>time=%{customdata[0]}<br>reward=%{customdata[1]}<br>attack name=%{customdata[2]}<br>machine instance name=%{customdata[3]}<br>flag=%{customdata[5]}<extra></extra>",
         "legendgroup": "failed, local",
         "marker": {
          "color": "#EF553B",
          "symbol": "circle"
         },
         "mode": "markers",
         "name": "failed, local",
         "orientation": "v",
         "showlegend": true,
         "type": "scatter",
         "x": [
          2,
          3
         ],
         "xaxis": "x",
         "y": [
          10,
          -2
         ],
         "yaxis": "y"
        },
        {
         "customdata": [
          [
           1.0573163032531738,
           -10,
           "Steal Application Access Token",
           "MailServer",
           "remote",
           false
          ]
         ],
         "hovertemplate": "result=failed<br>type=%{customdata[4]}<br>iteration=%{x}<br>cumulative reward=%{y}<br>time=%{customdata[0]}<br>reward=%{customdata[1]}<br>attack name=%{customdata[2]}<br>machine instance name=%{customdata[3]}<br>flag=%{customdata[5]}<extra></extra>",
         "legendgroup": "failed, remote",
         "marker": {
          "color": "#EF553B",
          "symbol": "diamond"
         },
         "mode": "markers",
         "name": "failed, remote",
         "orientation": "v",
         "showlegend": true,
         "type": "scatter",
         "x": [
          7
         ],
         "xaxis": "x",
         "y": [
          276
         ],
         "yaxis": "y"
        }
       ],
       "layout": {
        "legend": {
         "title": {
          "text": "result, type"
         },
         "tracegroupgap": 0
        },
        "template": {
         "data": {
          "bar": [
           {
            "error_x": {
             "color": "#2a3f5f"
            },
            "error_y": {
             "color": "#2a3f5f"
            },
            "marker": {
             "line": {
              "color": "#E5ECF6",
              "width": 0.5
             },
             "pattern": {
              "fillmode": "overlay",
              "size": 10,
              "solidity": 0.2
             }
            },
            "type": "bar"
           }
          ],
          "barpolar": [
           {
            "marker": {
             "line": {
              "color": "#E5ECF6",
              "width": 0.5
             },
             "pattern": {
              "fillmode": "overlay",
              "size": 10,
              "solidity": 0.2
             }
            },
            "type": "barpolar"
           }
          ],
          "carpet": [
           {
            "aaxis": {
             "endlinecolor": "#2a3f5f",
             "gridcolor": "white",
             "linecolor": "white",
             "minorgridcolor": "white",
             "startlinecolor": "#2a3f5f"
            },
            "baxis": {
             "endlinecolor": "#2a3f5f",
             "gridcolor": "white",
             "linecolor": "white",
             "minorgridcolor": "white",
             "startlinecolor": "#2a3f5f"
            },
            "type": "carpet"
           }
          ],
          "choropleth": [
           {
            "colorbar": {
             "outlinewidth": 0,
             "ticks": ""
            },
            "type": "choropleth"
           }
          ],
          "contour": [
           {
            "colorbar": {
             "outlinewidth": 0,
             "ticks": ""
            },
            "colorscale": [
             [
              0,
              "#0d0887"
             ],
             [
              0.1111111111111111,
              "#46039f"
             ],
             [
              0.2222222222222222,
              "#7201a8"
             ],
             [
              0.3333333333333333,
              "#9c179e"
             ],
             [
              0.4444444444444444,
              "#bd3786"
             ],
             [
              0.5555555555555556,
              "#d8576b"
             ],
             [
              0.6666666666666666,
              "#ed7953"
             ],
             [
              0.7777777777777778,
              "#fb9f3a"
             ],
             [
              0.8888888888888888,
              "#fdca26"
             ],
             [
              1,
              "#f0f921"
             ]
            ],
            "type": "contour"
           }
          ],
          "contourcarpet": [
           {
            "colorbar": {
             "outlinewidth": 0,
             "ticks": ""
            },
            "type": "contourcarpet"
           }
          ],
          "heatmap": [
           {
            "colorbar": {
             "outlinewidth": 0,
             "ticks": ""
            },
            "colorscale": [
             [
              0,
              "#0d0887"
             ],
             [
              0.1111111111111111,
              "#46039f"
             ],
             [
              0.2222222222222222,
              "#7201a8"
             ],
             [
              0.3333333333333333,
              "#9c179e"
             ],
             [
              0.4444444444444444,
              "#bd3786"
             ],
             [
              0.5555555555555556,
              "#d8576b"
             ],
             [
              0.6666666666666666,
              "#ed7953"
             ],
             [
              0.7777777777777778,
              "#fb9f3a"
             ],
             [
              0.8888888888888888,
              "#fdca26"
             ],
             [
              1,
              "#f0f921"
             ]
            ],
            "type": "heatmap"
           }
          ],
          "heatmapgl": [
           {
            "colorbar": {
             "outlinewidth": 0,
             "ticks": ""
            },
            "colorscale": [
             [
              0,
              "#0d0887"
             ],
             [
              0.1111111111111111,
              "#46039f"
             ],
             [
              0.2222222222222222,
              "#7201a8"
             ],
             [
              0.3333333333333333,
              "#9c179e"
             ],
             [
              0.4444444444444444,
              "#bd3786"
             ],
             [
              0.5555555555555556,
              "#d8576b"
             ],
             [
              0.6666666666666666,
              "#ed7953"
             ],
             [
              0.7777777777777778,
              "#fb9f3a"
             ],
             [
              0.8888888888888888,
              "#fdca26"
             ],
             [
              1,
              "#f0f921"
             ]
            ],
            "type": "heatmapgl"
           }
          ],
          "histogram": [
           {
            "marker": {
             "pattern": {
              "fillmode": "overlay",
              "size": 10,
              "solidity": 0.2
             }
            },
            "type": "histogram"
           }
          ],
          "histogram2d": [
           {
            "colorbar": {
             "outlinewidth": 0,
             "ticks": ""
            },
            "colorscale": [
             [
              0,
              "#0d0887"
             ],
             [
              0.1111111111111111,
              "#46039f"
             ],
             [
              0.2222222222222222,
              "#7201a8"
             ],
             [
              0.3333333333333333,
              "#9c179e"
             ],
             [
              0.4444444444444444,
              "#bd3786"
             ],
             [
              0.5555555555555556,
              "#d8576b"
             ],
             [
              0.6666666666666666,
              "#ed7953"
             ],
             [
              0.7777777777777778,
              "#fb9f3a"
             ],
             [
              0.8888888888888888,
              "#fdca26"
             ],
             [
              1,
              "#f0f921"
             ]
            ],
            "type": "histogram2d"
           }
          ],
          "histogram2dcontour": [
           {
            "colorbar": {
             "outlinewidth": 0,
             "ticks": ""
            },
            "colorscale": [
             [
              0,
              "#0d0887"
             ],
             [
              0.1111111111111111,
              "#46039f"
             ],
             [
              0.2222222222222222,
              "#7201a8"
             ],
             [
              0.3333333333333333,
              "#9c179e"
             ],
             [
              0.4444444444444444,
              "#bd3786"
             ],
             [
              0.5555555555555556,
              "#d8576b"
             ],
             [
              0.6666666666666666,
              "#ed7953"
             ],
             [
              0.7777777777777778,
              "#fb9f3a"
             ],
             [
              0.8888888888888888,
              "#fdca26"
             ],
             [
              1,
              "#f0f921"
             ]
            ],
            "type": "histogram2dcontour"
           }
          ],
          "mesh3d": [
           {
            "colorbar": {
             "outlinewidth": 0,
             "ticks": ""
            },
            "type": "mesh3d"
           }
          ],
          "parcoords": [
           {
            "line": {
             "colorbar": {
              "outlinewidth": 0,
              "ticks": ""
             }
            },
            "type": "parcoords"
           }
          ],
          "pie": [
           {
            "automargin": true,
            "type": "pie"
           }
          ],
          "scatter": [
           {
            "marker": {
             "colorbar": {
              "outlinewidth": 0,
              "ticks": ""
             }
            },
            "type": "scatter"
           }
          ],
          "scatter3d": [
           {
            "line": {
             "colorbar": {
              "outlinewidth": 0,
              "ticks": ""
             }
            },
            "marker": {
             "colorbar": {
              "outlinewidth": 0,
              "ticks": ""
             }
            },
            "type": "scatter3d"
           }
          ],
          "scattercarpet": [
           {
            "marker": {
             "colorbar": {
              "outlinewidth": 0,
              "ticks": ""
             }
            },
            "type": "scattercarpet"
           }
          ],
          "scattergeo": [
           {
            "marker": {
             "colorbar": {
              "outlinewidth": 0,
              "ticks": ""
             }
            },
            "type": "scattergeo"
           }
          ],
          "scattergl": [
           {
            "marker": {
             "colorbar": {
              "outlinewidth": 0,
              "ticks": ""
             }
            },
            "type": "scattergl"
           }
          ],
          "scattermapbox": [
           {
            "marker": {
             "colorbar": {
              "outlinewidth": 0,
              "ticks": ""
             }
            },
            "type": "scattermapbox"
           }
          ],
          "scatterpolar": [
           {
            "marker": {
             "colorbar": {
              "outlinewidth": 0,
              "ticks": ""
             }
            },
            "type": "scatterpolar"
           }
          ],
          "scatterpolargl": [
           {
            "marker": {
             "colorbar": {
              "outlinewidth": 0,
              "ticks": ""
             }
            },
            "type": "scatterpolargl"
           }
          ],
          "scatterternary": [
           {
            "marker": {
             "colorbar": {
              "outlinewidth": 0,
              "ticks": ""
             }
            },
            "type": "scatterternary"
           }
          ],
          "surface": [
           {
            "colorbar": {
             "outlinewidth": 0,
             "ticks": ""
            },
            "colorscale": [
             [
              0,
              "#0d0887"
             ],
             [
              0.1111111111111111,
              "#46039f"
             ],
             [
              0.2222222222222222,
              "#7201a8"
             ],
             [
              0.3333333333333333,
              "#9c179e"
             ],
             [
              0.4444444444444444,
              "#bd3786"
             ],
             [
              0.5555555555555556,
              "#d8576b"
             ],
             [
              0.6666666666666666,
              "#ed7953"
             ],
             [
              0.7777777777777778,
              "#fb9f3a"
             ],
             [
              0.8888888888888888,
              "#fdca26"
             ],
             [
              1,
              "#f0f921"
             ]
            ],
            "type": "surface"
           }
          ],
          "table": [
           {
            "cells": {
             "fill": {
              "color": "#EBF0F8"
             },
             "line": {
              "color": "white"
             }
            },
            "header": {
             "fill": {
              "color": "#C8D4E3"
             },
             "line": {
              "color": "white"
             }
            },
            "type": "table"
           }
          ]
         },
         "layout": {
          "annotationdefaults": {
           "arrowcolor": "#2a3f5f",
           "arrowhead": 0,
           "arrowwidth": 1
          },
          "autotypenumbers": "strict",
          "coloraxis": {
           "colorbar": {
            "outlinewidth": 0,
            "ticks": ""
           }
          },
          "colorscale": {
           "diverging": [
            [
             0,
             "#8e0152"
            ],
            [
             0.1,
             "#c51b7d"
            ],
            [
             0.2,
             "#de77ae"
            ],
            [
             0.3,
             "#f1b6da"
            ],
            [
             0.4,
             "#fde0ef"
            ],
            [
             0.5,
             "#f7f7f7"
            ],
            [
             0.6,
             "#e6f5d0"
            ],
            [
             0.7,
             "#b8e186"
            ],
            [
             0.8,
             "#7fbc41"
            ],
            [
             0.9,
             "#4d9221"
            ],
            [
             1,
             "#276419"
            ]
           ],
           "sequential": [
            [
             0,
             "#0d0887"
            ],
            [
             0.1111111111111111,
             "#46039f"
            ],
            [
             0.2222222222222222,
             "#7201a8"
            ],
            [
             0.3333333333333333,
             "#9c179e"
            ],
            [
             0.4444444444444444,
             "#bd3786"
            ],
            [
             0.5555555555555556,
             "#d8576b"
            ],
            [
             0.6666666666666666,
             "#ed7953"
            ],
            [
             0.7777777777777778,
             "#fb9f3a"
            ],
            [
             0.8888888888888888,
             "#fdca26"
            ],
            [
             1,
             "#f0f921"
            ]
           ],
           "sequentialminus": [
            [
             0,
             "#0d0887"
            ],
            [
             0.1111111111111111,
             "#46039f"
            ],
            [
             0.2222222222222222,
             "#7201a8"
            ],
            [
             0.3333333333333333,
             "#9c179e"
            ],
            [
             0.4444444444444444,
             "#bd3786"
            ],
            [
             0.5555555555555556,
             "#d8576b"
            ],
            [
             0.6666666666666666,
             "#ed7953"
            ],
            [
             0.7777777777777778,
             "#fb9f3a"
            ],
            [
             0.8888888888888888,
             "#fdca26"
            ],
            [
             1,
             "#f0f921"
            ]
           ]
          },
          "colorway": [
           "#636efa",
           "#EF553B",
           "#00cc96",
           "#ab63fa",
           "#FFA15A",
           "#19d3f3",
           "#FF6692",
           "#B6E880",
           "#FF97FF",
           "#FECB52"
          ],
          "font": {
           "color": "#2a3f5f"
          },
          "geo": {
           "bgcolor": "white",
           "lakecolor": "white",
           "landcolor": "#E5ECF6",
           "showlakes": true,
           "showland": true,
           "subunitcolor": "white"
          },
          "hoverlabel": {
           "align": "left"
          },
          "hovermode": "closest",
          "mapbox": {
           "style": "light"
          },
          "paper_bgcolor": "white",
          "plot_bgcolor": "#E5ECF6",
          "polar": {
           "angularaxis": {
            "gridcolor": "white",
            "linecolor": "white",
            "ticks": ""
           },
           "bgcolor": "#E5ECF6",
           "radialaxis": {
            "gridcolor": "white",
            "linecolor": "white",
            "ticks": ""
           }
          },
          "scene": {
           "xaxis": {
            "backgroundcolor": "#E5ECF6",
            "gridcolor": "white",
            "gridwidth": 2,
            "linecolor": "white",
            "showbackground": true,
            "ticks": "",
            "zerolinecolor": "white"
           },
           "yaxis": {
            "backgroundcolor": "#E5ECF6",
            "gridcolor": "white",
            "gridwidth": 2,
            "linecolor": "white",
            "showbackground": true,
            "ticks": "",
            "zerolinecolor": "white"
           },
           "zaxis": {
            "backgroundcolor": "#E5ECF6",
            "gridcolor": "white",
            "gridwidth": 2,
            "linecolor": "white",
            "showbackground": true,
            "ticks": "",
            "zerolinecolor": "white"
           }
          },
          "shapedefaults": {
           "line": {
            "color": "#2a3f5f"
           }
          },
          "ternary": {
           "aaxis": {
            "gridcolor": "white",
            "linecolor": "white",
            "ticks": ""
           },
           "baxis": {
            "gridcolor": "white",
            "linecolor": "white",
            "ticks": ""
           },
           "bgcolor": "#E5ECF6",
           "caxis": {
            "gridcolor": "white",
            "linecolor": "white",
            "ticks": ""
           }
          },
          "title": {
           "x": 0.05
          },
          "xaxis": {
           "automargin": true,
           "gridcolor": "white",
           "linecolor": "white",
           "ticks": "",
           "title": {
            "standoff": 15
           },
           "zerolinecolor": "white",
           "zerolinewidth": 2
          },
          "yaxis": {
           "automargin": true,
           "gridcolor": "white",
           "linecolor": "white",
           "ticks": "",
           "title": {
            "standoff": 15
           },
           "zerolinecolor": "white",
           "zerolinewidth": 2
          }
         }
        },
        "title": {
         "text": "Attacker history"
        },
        "xaxis": {
         "anchor": "y",
         "domain": [
          0,
          1
         ],
         "title": {
          "text": "iteration"
         }
        },
        "yaxis": {
         "anchor": "x",
         "domain": [
          0,
          1
         ],
         "title": {
          "text": "cumulative reward"
         }
        }
       }
      }
     },
     "metadata": {},
     "output_type": "display_data"
    }
   ],
   "source": [
    "attacker.display_history(x='iteration')"
   ]
  }
 ],
 "metadata": {
  "interpreter": {
   "hash": "cdfe7fd1aeb3226d5008756b11d578cc7446dd717d4b9a3f4972711f190e7ab6"
  },
  "kernelspec": {
   "display_name": "Python 3.8.8 ('base')",
   "language": "python",
   "name": "python3"
  },
  "language_info": {
   "codemirror_mode": {
    "name": "ipython",
    "version": 3
   },
   "file_extension": ".py",
   "mimetype": "text/x-python",
   "name": "python",
   "nbconvert_exporter": "python",
   "pygments_lexer": "ipython3",
   "version": "3.8.8"
  },
  "orig_nbformat": 4
 },
 "nbformat": 4,
 "nbformat_minor": 2
}
